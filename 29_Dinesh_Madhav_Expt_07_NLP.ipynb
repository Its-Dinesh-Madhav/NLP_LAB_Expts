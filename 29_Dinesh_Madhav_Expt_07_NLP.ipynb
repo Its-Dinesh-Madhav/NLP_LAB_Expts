{
  "nbformat": 4,
  "nbformat_minor": 0,
  "metadata": {
    "colab": {
      "provenance": []
    },
    "kernelspec": {
      "name": "python3",
      "display_name": "Python 3"
    },
    "language_info": {
      "name": "python"
    }
  },
  "cells": [
    {
      "cell_type": "markdown",
      "source": [
        "# 29_Dinesh Madhav_Expt07\n",
        "\n",
        "\n"
      ],
      "metadata": {
        "id": "1_jzrPeSnmU4"
      }
    },
    {
      "cell_type": "code",
      "execution_count": 1,
      "metadata": {
        "id": "cXs4Z-C2naGI"
      },
      "outputs": [],
      "source": [
        "import spacy"
      ]
    },
    {
      "cell_type": "markdown",
      "source": [
        "**Load the spaCy language model**"
      ],
      "metadata": {
        "id": "P92D_dvznsEQ"
      }
    },
    {
      "cell_type": "code",
      "source": [
        "nlp = spacy.load(\"en_core_web_sm\")"
      ],
      "metadata": {
        "id": "0DZhSipmnxJE"
      },
      "execution_count": 2,
      "outputs": []
    },
    {
      "cell_type": "markdown",
      "source": [
        "**Sample text input**"
      ],
      "metadata": {
        "id": "V_jHzLUyn4R-"
      }
    },
    {
      "cell_type": "code",
      "source": [
        "text = \"Apple Inc. is a company based in Cupertino, California. John works for Google in Mountain View.\""
      ],
      "metadata": {
        "id": "sKL3p0R_n7wH"
      },
      "execution_count": 3,
      "outputs": []
    },
    {
      "cell_type": "markdown",
      "source": [
        "**Process the text using spaCy**"
      ],
      "metadata": {
        "id": "gAcp-MzXoDpR"
      }
    },
    {
      "cell_type": "code",
      "source": [
        "import spacy\n",
        "\n",
        "# Load the spaCy language model\n",
        "nlp = spacy.load(\"en_core_web_sm\")\n",
        "\n",
        "# Sample text input\n",
        "text = \"Apple Inc. is a company based in Cupertino, California. John works for Google in Mountain View.\"\n",
        "\n",
        "# Process the text using spaCy\n",
        "doc = nlp(text)\n",
        "\n",
        "# Initialize variables to store named entities\n",
        "named_entities = []\n",
        "\n",
        "# Define a function to extract named entities\n",
        "def extract_named_entities(doc):\n",
        "    entities = []\n",
        "    current_entity = None\n",
        "\n",
        "    for token in doc:\n",
        "        if token.ent_type_:\n",
        "            if current_entity and token.ent_type_ == current_entity[1]:\n",
        "                current_entity = (current_entity[0] + \" \" + token.text, token.ent_type_)\n",
        "            else:\n",
        "                if current_entity:\n",
        "                    entities.append(current_entity)\n",
        "                current_entity = (token.text, token.ent_type_)\n",
        "        else:\n",
        "            if current_entity:\n",
        "                entities.append(current_entity)\n",
        "            current_entity = None\n",
        "\n",
        "    if current_entity:\n",
        "        entities.append(current_entity)\n",
        "\n",
        "    return entities\n",
        "\n",
        "# Extract named entities\n",
        "named_entities = extract_named_entities(doc)\n",
        "\n",
        "# Print the named entities\n",
        "for entity, label in named_entities:\n",
        "    print(f\"Entity: {entity}, Label: {label}\")"
      ],
      "metadata": {
        "colab": {
          "base_uri": "https://localhost:8080/"
        },
        "id": "Yfxgz4EYoF9g",
        "outputId": "2203da7f-aec4-4ad3-bc59-dcdccbcb54ba"
      },
      "execution_count": 4,
      "outputs": [
        {
          "output_type": "stream",
          "name": "stdout",
          "text": [
            "Entity: Apple Inc., Label: ORG\n",
            "Entity: Cupertino, Label: GPE\n",
            "Entity: California, Label: GPE\n",
            "Entity: John, Label: PERSON\n",
            "Entity: Google, Label: ORG\n",
            "Entity: Mountain View, Label: GPE\n"
          ]
        }
      ]
    }
  ]
}